{
  "nbformat": 4,
  "nbformat_minor": 0,
  "metadata": {
    "colab": {
      "provenance": []
    },
    "kernelspec": {
      "name": "python3",
      "display_name": "Python 3"
    },
    "language_info": {
      "name": "python"
    }
  },
  "cells": [
    {
      "cell_type": "markdown",
      "source": [
        "#Restful API & Flask Assignment"
      ],
      "metadata": {
        "id": "urts2IP6SAJ-"
      }
    },
    {
      "cell_type": "markdown",
      "source": [
        "##Restful API & Flask Questions"
      ],
      "metadata": {
        "id": "hm3dLKpUm-sO"
      }
    },
    {
      "cell_type": "markdown",
      "source": [
        "1. What is a RESTful API?\n",
        "- A RESTful API (Representational State Transfer API) is an architectural style for designing networked applications. It allows different software systems to communicate over the internet using standard HTTP methods.\n",
        "\n",
        "Important RESTful API Concepts:\n",
        "\n",
        "1) Architecture of Client-Server:\n",
        "The server, which houses the data, and the client, such as a web or mobile application, are two distinct entities. Through API queries and answers, they exchange information.\n",
        "\n",
        "\n",
        "2) Stateless: Every API request has all the data required to handle it. Between requests, the server does not save any client session information.\n",
        "\n",
        "\n",
        "3) HTTP Techniques:\n",
        "Standard HTTP methods are used by RESTful APIs:\n",
        "\n",
        "\n",
        "GET: Get information\n",
        "\n",
        "POST: Generate fresh data\n",
        "\n",
        "PUT: Revise current data\n",
        "\n",
        "DELETE: Get rid of data\n",
        "\n",
        "Everything is regarded as a resource and is identifiable by a distinct URL (URI).\n",
        "\n",
        "4) For instance:\n",
        "\n",
        "GET /users - Obtain every user\n",
        "\n",
        "To obtain a user with ID 1, type GET /users/1.\n",
        "\n",
        "To create a new user, use POST /users.\n",
        "\n",
        "5) JSON or XML: Typically, data is transmitted and received in either the more popular JSON format or XML.\n",
        "\n",
        " 6) Uniform Interface: REST simplifies and standardizes APIs by enforcing a common method of interacting with resources."
      ],
      "metadata": {
        "id": "TW0nZVVmSVCX"
      }
    },
    {
      "cell_type": "markdown",
      "source": [
        "\n",
        "\n",
        "---\n",
        "\n"
      ],
      "metadata": {
        "id": "f0Hj71OpsjjQ"
      }
    },
    {
      "cell_type": "markdown",
      "source": [
        "2. Explain the concept of API specification?\n",
        "\n",
        "- An API specification is a detailed, formal document or definition that describes how an API should behave. It outlines how developers can interact with the API—what endpoints are available, what data to send and expect, and the rules for communication.\n",
        "\n",
        "🔍 Key Components of an API Specification:\n",
        "\n",
        "1) Endpoints (Routes/Paths):\n",
        "These define the URLs you use to access specific resources.\n",
        "Example:\n",
        "\n",
        "GET /users  \n",
        "POST /products  \n",
        "\n",
        "2) HTTP Methods:\n",
        "Specifies which method to use with each endpoint:\n",
        "\n",
        "GET – Read data\n",
        "\n",
        "POST – Create data\n",
        "\n",
        "PUT – Update data\n",
        "\n",
        "DELETE – Remove data\n",
        "\n",
        "3) Request Parameters:\n",
        "Explains what parameters can or must be sent in the request—like query parameters, headers, path variables, or body data.\n",
        "\n",
        "4) Request and Response Formats:\n",
        "Describes what kind of data (usually JSON or XML) should be sent and received.\n",
        "Includes data types, required fields, and structure.\n",
        "\n",
        "5) Status Codes:\n",
        "Lists the possible HTTP status codes returned, like:\n",
        "\n",
        "200 OK\n",
        "\n",
        "201 Created\n",
        "\n",
        "400 Bad Request\n",
        "\n",
        "404 Not Found.\n",
        "\n",
        "6) Authentication Requirements:\n",
        "Specifies if/what type of authentication is needed (API keys, OAuth tokens, etc.)."
      ],
      "metadata": {
        "id": "N-UTQp96YBP7"
      }
    },
    {
      "cell_type": "markdown",
      "source": [
        "\n",
        "\n",
        "---\n",
        "\n"
      ],
      "metadata": {
        "id": "h6at4EsGso9U"
      }
    },
    {
      "cell_type": "markdown",
      "source": [
        "3. What is Flask, and why is it popular for building APIs?\n",
        "\n",
        "- Flask is a lightweight, open-source web framework written in Python, commonly used to build web applications and RESTful APIs.\n",
        "\n",
        "Flask is Popular for Building APIs:\n",
        "\n",
        "1) Lightweight and Simple:\n",
        "Flask doesn’t come with a lot of built-in features, which makes it easy to understand and flexible to customize.\n",
        "\n",
        "You only use what you need—making it great for small to medium projects.\n",
        "\n",
        "2) Python-Based:\n",
        "Since Python is popular in data science, AI, and backend development, Flask fits naturally in Python ecosystems.\n",
        "\n",
        "3) Minimal Boilerplate:\n",
        "You can build an API with just a few lines of code.\n",
        "\n",
        "from flask import Flask, jsonify\n",
        "\n",
        "app = Flask(__name__)\n",
        "\n",
        "@app.route('/api/hello')\n",
        "def hello():\n",
        "    return jsonify(message=\"Hello, world!\")\n",
        "\n",
        "if __name__ == '__main__':\n",
        "    app.run()\n",
        "\n",
        "4) Built-in Development Server:\n",
        "Flask provides a simple development server and debugger—perfect for testing and debugging locally.\n",
        "\n",
        "5) Great for REST APIs:\n",
        "Flask routes and HTTP method decorators (like @app.route()) make it easy to define endpoints.\n",
        "You can quickly create CRUD operations with clear structure.\n",
        "\n",
        "6) Rich Ecosystem:\n",
        "Works well with other tools and libraries like SQLAlchemy (ORM), Marshmallow (for data serialization), and Flask-RESTful (for structured API building).\n",
        "\n",
        "7) Good Community Support:\n",
        "Lots of tutorials, extensions, and documentation available for beginners and advanced users."
      ],
      "metadata": {
        "id": "jfPpOF0AaMOa"
      }
    },
    {
      "cell_type": "markdown",
      "source": [
        "\n",
        "\n",
        "---\n",
        "\n"
      ],
      "metadata": {
        "id": "fRg3rjNqsw3W"
      }
    },
    {
      "cell_type": "markdown",
      "source": [
        "4. What is routing in Flask?\n",
        "\n",
        "- 1) Routing refers to the process of mapping URLs (web addresses) to specific functions in a Flask application.\n",
        "\n",
        "2) Each route is linked to a view function, which defines what response to send back to the client when that URL is accessed.\n",
        "\n",
        "3) Routing is defined using the @app.route() decorator, which connects a URL pattern to a function.\n",
        "\n",
        "4) Flask uses the route to decide which function to call based on the requested URL and HTTP method (GET, POST, etc.).\n",
        "\n",
        "5) Routes can include dynamic parts, allowing variables in the URL (like /user/<id>).\n",
        "\n",
        "6) Multiple routes can point to the same function, enabling URL aliases.\n",
        "\n",
        "7) Flask also supports custom error routes, such as handling 404 or 500 errors.\n",
        "\n",
        "8) Routing is essential for building RESTful APIs, where different endpoints perform different operations on data."
      ],
      "metadata": {
        "id": "Qx7JZAgbb-fF"
      }
    },
    {
      "cell_type": "markdown",
      "source": [
        "\n",
        "\n",
        "---\n",
        "\n"
      ],
      "metadata": {
        "id": "F4EtJOj4syJN"
      }
    },
    {
      "cell_type": "markdown",
      "source": [
        "5. How do you create a simple Flask application?\n",
        "\n",
        "- 1) Install Flask:\n",
        "Use pip to install Flask:\n",
        "pip install Flask\n",
        "\n",
        " 2) Import Flask:\n",
        "Import the Flask class from the Flask package in your Python file.\n",
        "\n",
        "3) Initialize the App:\n",
        "Create an instance of the Flask class, which represents your application.\n",
        "\n",
        " 4) Define Routes:\n",
        "Use the @app.route() decorator to create URL routes and bind them to view functions.\n",
        "\n",
        " 5) Return a Response:\n",
        "Inside the view function, return the content (like a string or JSON) that should appear when the route is accessed.\n",
        "\n",
        " 6) Run the App:\n",
        "Call app.run() at the bottom of the script to start the development server.\n",
        "\n",
        " 7) Access in Browser:\n",
        "Open your browser and go to http://127.0.0.1:5000/ (default Flask port) to see your app in action.\n",
        "\n"
      ],
      "metadata": {
        "id": "zs4t2cSa87Y7"
      }
    },
    {
      "cell_type": "markdown",
      "source": [
        "\n",
        "\n",
        "---\n",
        "\n"
      ],
      "metadata": {
        "id": "yHVt4HL0szjD"
      }
    },
    {
      "cell_type": "markdown",
      "source": [
        "6. What are HTTP methods used in RESTful APIs?\n",
        "\n",
        "- RESTful APIs use standard HTTP methods to perform CRUD (Create, Read, Update, Delete) operations. The commonly used HTTP methods are:\n",
        "\n",
        "1) GET\n",
        "\n",
        "Used to retrieve data from the server.\n",
        "\n",
        "It does not modify any resources on the server.\n",
        "\n",
        "Example: GET /users – retrieves a list of users.\n",
        "\n",
        "2) POST\n",
        "\n",
        "Used to create a new resource on the server.\n",
        "\n",
        "Sends data in the request body to be added.\n",
        "\n",
        "Example: POST /users – creates a new user.\n",
        "\n",
        "3) PUT\n",
        "\n",
        "Used to update an existing resource entirely.\n",
        "\n",
        "Replaces the current representation with the new one.\n",
        "\n",
        "Example: PUT /users/5 – replaces user with ID 5.\n",
        "\n",
        "4) PATCH\n",
        "\n",
        "Used to partially update a resource.\n",
        "\n",
        "Only the specified fields are modified.\n",
        "\n",
        "Example: PATCH /users/5 – updates some fields of user 5.\n",
        "\n",
        "50 DELETE\n",
        "\n",
        "Used to remove a resource from the server.\n",
        "\n",
        "Example: DELETE /users/5 – deletes user with ID 5.\n",
        "\n",
        "6) OPTIONS\n",
        "\n",
        "Used to describe the communication options for the target resource.\n",
        "\n",
        "Often used in CORS (Cross-Origin Resource Sharing) scenarios.\n",
        "\n",
        "7) HEAD\n",
        "\n",
        "Similar to GET, but it only retrieves the headers, not the body.\n",
        "\n",
        "Useful for checking if a resource exists or getting metadata.\n"
      ],
      "metadata": {
        "id": "dl6eU4fW900U"
      }
    },
    {
      "cell_type": "markdown",
      "source": [
        "\n",
        "\n",
        "---\n",
        "\n"
      ],
      "metadata": {
        "id": "EYpb5GoUs051"
      }
    },
    {
      "cell_type": "markdown",
      "source": [
        "7. What is the purpose of the @app.route() decorator in Flask?\n",
        "\n",
        "- The @app.route() decorator in Flask is used to define routes (URLs) that a web application can handle.\n",
        "\n",
        " It associates a specific URL pattern with a function, which is known as a view function.\n",
        "\n",
        " When a user visits the defined URL in their browser, Flask will execute the corresponding function and return the response.\n",
        "\n",
        "-- Purpose and Usage:\n",
        "1) URL Mapping:\n",
        "\n",
        "It maps a URL path to a Python function.\n",
        "\n",
        "Example:\n",
        "\n",
        "@app.route('/')\n",
        "def home():\n",
        "    return \"Welcome to the Home Page\"\n",
        "\n",
        "Here, when the user accesses /, the home() function is called.\n",
        "\n",
        "20 Supports Multiple Routes and Methods:\n",
        "\n",
        "You can use it to define multiple routes or specify HTTP methods like GET, POST, etc.\n",
        "\n",
        "Example:\n",
        "\n",
        "@app.route('/submit', methods=['POST'])\n",
        "def submit():\n",
        "    return \"Form Submitted\"\n",
        "\n",
        "3) Cleaner Code:\n",
        "\n",
        "It makes the code more readable and structured by linking URL paths directly above the function handling them."
      ],
      "metadata": {
        "id": "605MjXs4Q8h5"
      }
    },
    {
      "cell_type": "markdown",
      "source": [
        "\n",
        "\n",
        "---\n",
        "\n"
      ],
      "metadata": {
        "id": "3zKG2aUbs1_S"
      }
    },
    {
      "cell_type": "markdown",
      "source": [
        "8. What is the difference between GET and POST HTTP methods?\n",
        "\n",
        "-\n",
        "    1) Purpose\n",
        "\n",
        "GET: Used to retrieve data from the server.\n",
        "\n",
        "POST: Used to send data to the server to create or update a resource.\n",
        "\n",
        "    2) Data Visibility\n",
        "\n",
        "GET: Data is sent in the URL (query string), so it's visible.\n",
        "\n",
        "POST: Data is sent in the request body, so it's not visible in the URL.\n",
        "\n",
        "    3)Security\n",
        "\n",
        "GET: Less secure because data appears in the URL.\n",
        "\n",
        "POST: More secure for sensitive data (e.g., passwords).\n",
        "\n",
        "    4) Length Restrictions\n",
        "\n",
        "GET: Limited by URL length (browser/server dependent).\n",
        "\n",
        "POST: No size limit for data (depends on server configuration).\n",
        "\n",
        "    5) Caching\n",
        "\n",
        "GET: Can be cached by browsers.\n",
        "\n",
        "POST: Not cached by default.\n",
        "\n",
        "    6) Bookmarking\n",
        "\n",
        "GET: URLs can be bookmarked and reused.\n",
        "\n",
        "POST: Cannot be bookmarked because data is in the request body.\n",
        "\n",
        "    7) Idempotency\n",
        "\n",
        "GET: Idempotent (repeated requests don’t change the server state).\n",
        "\n",
        "POST: Not idempotent (each request may create or update data).\n",
        "\n",
        "    8) Use Cases\n",
        "\n",
        "GET: Searching, loading a page, retrieving records.\n",
        "\n",
        "POST: Submitting forms, uploading files, saving data.\n",
        "\n"
      ],
      "metadata": {
        "id": "PEevJ7hfU0js"
      }
    },
    {
      "cell_type": "markdown",
      "source": [
        "\n",
        "\n",
        "---\n",
        "\n"
      ],
      "metadata": {
        "id": "ajQeoQ8Ss3Ln"
      }
    },
    {
      "cell_type": "markdown",
      "source": [
        "9. How do you handle errors in Flask APIs?\n",
        "\n",
        "- In Flask, errors can be handled in a structured way to improve user experience and make debugging easier. Here's how error handling is typically done:\n",
        "\n",
        "       1) Using Error Handlers\n",
        "\n",
        "Flask allows defining custom error handlers for specific HTTP error codes like 404 (Not Found), 500 (Internal Server Error), etc.\n",
        "\n",
        "These handlers return custom messages or responses when an error occurs.\n",
        "\n",
        "      2) Returning Meaningful Error Messages\n",
        "\n",
        "Instead of showing default server errors, custom messages are returned to inform the client about what went wrong.\n",
        "\n",
        "      3) Using the abort() Function\n",
        "\n",
        "The abort() function is used to immediately stop execution and return an error response with a specific status code.\n",
        "\n",
        "It's commonly used for validation and permission errors.\n",
        "\n",
        "     4) Handling Exceptions with try-except Blocks\n",
        "\n",
        "Critical parts of the code are enclosed in try-except blocks to catch runtime errors.\n",
        "\n",
        "This prevents the application from crashing and allows returning custom error responses.\n",
        "\n",
        "     5) Using JSON Responses for API Errors\n",
        "\n",
        "In APIs, it's a best practice to return error messages in JSON format with fields like error, message, and status code.\n",
        "\n",
        "     6) Logging Errors\n",
        "\n",
        "Flask supports logging. All caught errors can be logged for internal tracking and debugging.\n",
        "\n",
        "     7) Setting Global Error Handlers\n",
        "\n",
        "You can define global handlers that catch all uncaught exceptions, helping to centralize error handling in one place.\n",
        "\n"
      ],
      "metadata": {
        "id": "vYEsF64RVsQR"
      }
    },
    {
      "cell_type": "markdown",
      "source": [
        "\n",
        "\n",
        "---\n",
        "\n"
      ],
      "metadata": {
        "id": "2uStPKUIs4QE"
      }
    },
    {
      "cell_type": "markdown",
      "source": [
        "10. How do you connect Flask to a SQL database?\n",
        "\n",
        "- To connect Flask to a SQL database, you typically use an ORM (Object Relational Mapper) like SQLAlchemy or work directly with a database connector like sqlite3 or MySQLdb. Below are the steps involved:\n",
        "\n",
        "      1) Install Required Libraries\n",
        "\n",
        "Use pip to install Flask and the SQL library, e.g., Flask-SQLAlchemy for SQLAlchemy.\n",
        "\n",
        "      2) Configure the Database URI\n",
        "\n",
        "Set the database URI in the Flask app configuration.\n",
        "\n",
        "The URI includes information like database type, username, password, hostname, and database name.\n",
        "\n",
        "       3) Initialize the Database Connection\n",
        "\n",
        "Create a database object and link it to the Flask app.\n",
        "\n",
        "       4) Define Models\n",
        "\n",
        "Use classes to define database tables. Each class represents a table, and each attribute represents a column.\n",
        "\n",
        "       5) Create the Tables\n",
        "\n",
        "Use migration tools like Flask-Migrate or SQLAlchemy's create_all() method to generate tables in the database.\n",
        "\n",
        "       6) Perform Database Operations\n",
        "\n",
        "Use ORM methods to add, update, delete, or query data in the database.\n",
        "\n",
        "       7) Close the Connection Properly\n",
        "\n",
        "Flask handles connection pooling and cleanup, but it’s good practice to manage sessions and close connections when needed."
      ],
      "metadata": {
        "id": "Ygd3RHV0dFvt"
      }
    },
    {
      "cell_type": "markdown",
      "source": [
        "\n",
        "\n",
        "---\n",
        "\n"
      ],
      "metadata": {
        "id": "sPJITUt4s5X5"
      }
    },
    {
      "cell_type": "markdown",
      "source": [
        "11. What is the role of Flask-SQLAlchemy?\n",
        "- Flask-SQLAlchemy is an extension for Flask that adds support for SQLAlchemy, which is a popular Object Relational Mapper (ORM) for Python. It simplifies the process of working with databases in Flask applications.\n",
        "\n",
        "Key Roles of Flask-SQLAlchemy:\n",
        "\n",
        "1) Database Integration\n",
        "\n",
        "It allows Flask apps to easily connect and interact with SQL databases like SQLite, MySQL, PostgreSQL, etc.\n",
        "\n",
        "2) ORM Support\n",
        "\n",
        "With SQLAlchemy ORM, you can define database tables as Python classes and rows as objects.\n",
        "\n",
        "This eliminates the need to write raw SQL queries for most operations.\n",
        "\n",
        "3) Automatic Table Creation\n",
        "\n",
        "It provides a way to create tables automatically from your defined models (classes), making development faster and cleaner.\n",
        "\n",
        "4) Querying with Python\n",
        "\n",
        "Offers an intuitive and Pythonic way to query and manipulate data, such as retrieving records, filtering, and updating.\n",
        "\n",
        "5) Session Management\n",
        "\n",
        "Manages database sessions and transactions, ensuring data integrity and easy rollback on errors.\n",
        "\n",
        "6) Simplified Configuration\n",
        "\n",
        "Integrates seamlessly with Flask’s configuration system for defining database URIs and other settings.\n",
        "\n",
        "7) Support for Migrations\n",
        "\n",
        "Works well with tools like Flask-Migrate to handle database schema changes over time."
      ],
      "metadata": {
        "id": "9mx_j7uJduea"
      }
    },
    {
      "cell_type": "markdown",
      "source": [
        "\n",
        "\n",
        "---\n",
        "\n"
      ],
      "metadata": {
        "id": "6IWfNQ9qs6Y0"
      }
    },
    {
      "cell_type": "markdown",
      "source": [
        "12. What are Flask blueprints, and how are they useful?\n",
        "\n",
        "- Flask Blueprints are a way to organize your Flask application into modular components.\n",
        "They allow you to define parts of your app (routes, views, forms, etc.) in separate files or folders and later register them with the main application.\n",
        "\n",
        "Flask Blueprints is Useful in the following ways:\n",
        "\n",
        "     1) Modular Structure\n",
        "\n",
        "Helps break down a large application into smaller, manageable pieces.\n",
        "\n",
        "     2) Code Reusability\n",
        "\n",
        "You can reuse the same blueprint in multiple projects or parts of the app.\n",
        "\n",
        "     3) Cleaner Codebase\n",
        "\n",
        "Keeps code organized by grouping related routes and logic (e.g., user, admin, API).\n",
        "\n",
        "     4) Team Collaboration\n",
        "\n",
        "Makes it easier for teams to work independently on different modules.\n",
        "\n",
        "      5) Easier Maintenance\n",
        "\n",
        "Reduces complexity and makes debugging and updating specific parts simpler.\n",
        "\n",
        "      6) Flexible Route Prefixes\n",
        "\n",
        "Blueprints allow setting URL prefixes (e.g., /admin, /api/v1) for routing structure."
      ],
      "metadata": {
        "id": "QpFTy6g1TF8V"
      }
    },
    {
      "cell_type": "markdown",
      "source": [
        "\n",
        "\n",
        "---\n",
        "\n"
      ],
      "metadata": {
        "id": "OKizupJ4ZBiT"
      }
    },
    {
      "cell_type": "markdown",
      "source": [
        "13. What is the purpose of Flask's request object?\n",
        "\n",
        "- The request object in Flask is used to handle incoming HTTP requests from clients (like web browsers, mobile apps, etc.). It provides access to all the data sent with the request so that the server can process and respond appropriately.\n",
        "\n",
        "Key Purposes of Flask's request Object:\n",
        "\n",
        "    1) Accessing Form Data\n",
        "\n",
        "Retrieves data submitted through HTML forms using request.form.\n",
        "\n",
        "    2) Handling Query Parameters\n",
        "\n",
        "Allows access to URL parameters (like ?name=John) using request.args.\n",
        "\n",
        "     3) Accessing JSON Data\n",
        "\n",
        "Retrieves JSON payloads from POST/PUT requests using request.get_json().\n",
        "\n",
        "      4) Reading Headers\n",
        "\n",
        "Provides access to HTTP headers via request.headers.\n",
        "\n",
        "     5) Getting the HTTP Method\n",
        "\n",
        "Determines the method of the request (GET, POST, PUT, DELETE, etc.) using request.method.\n",
        "\n",
        "     6) Accessing Uploaded Files\n",
        "\n",
        "Handles file uploads via request.files.\n",
        "\n",
        "     7) Reading Cookies\n",
        "\n",
        "Retrieves cookies sent by the client using request.cookies.\n",
        "\n",
        "     8) Getting the Request URL and Path\n",
        "\n",
        "Provides the full URL or just the route path using request.url or request.path."
      ],
      "metadata": {
        "id": "PWNJLzDeTR96"
      }
    },
    {
      "cell_type": "markdown",
      "source": [
        "\n",
        "\n",
        "---\n",
        "\n"
      ],
      "metadata": {
        "id": "QWK342ptZDp9"
      }
    },
    {
      "cell_type": "markdown",
      "source": [
        "14. How do you create a RESTful API endpoint using Flask?\n",
        "\n",
        "- To create a RESTful API endpoint in Flask, follow these structured steps:\n",
        "\n",
        "✅ 1. Install Flask\n",
        "Use pip install flask to install the Flask library.\n",
        "\n",
        "✅ 2. Import Flask and Other Required Modules\n",
        "Import Flask and the request module to handle HTTP methods.\n",
        "\n",
        "✅ 3. Create a Flask App Instance\n",
        "Initialize the app using:\n",
        "\n",
        "app = Flask(__name__)\n",
        "\n",
        "✅ 4. Define the API Endpoint\n",
        "Use the @app.route() decorator to create the route.\n",
        "\n",
        "Specify the endpoint URL and allowed HTTP methods (GET, POST, etc.).\n",
        "\n",
        "Example (without code):\n",
        "\n",
        "A GET method might be used to fetch data from /api/users.\n",
        "\n",
        "A POST method might be used to send data to /api/users.\n",
        "\n",
        "✅ 5. Handle Requests Inside the Endpoint Function\n",
        "Use the request object to extract data from the request.\n",
        "\n",
        "Process the data and return a response, typically in JSON format.\n",
        "\n",
        "✅ 6. Return a Response\n",
        "Use Flask’s jsonify() method to return a structured JSON response with a status code.\n",
        "\n",
        "✅ 7. Run the App\n",
        "Use app.run() to start the Flask development server and test the endpoint.\n",
        "\n"
      ],
      "metadata": {
        "id": "NOzxYXTmTWcp"
      }
    },
    {
      "cell_type": "markdown",
      "source": [
        "\n",
        "\n",
        "---\n",
        "\n"
      ],
      "metadata": {
        "id": "znlSAj7PZE5C"
      }
    },
    {
      "cell_type": "markdown",
      "source": [
        "15. What is the purpose of Flask's jsonify() function?\n",
        "\n",
        "- The jsonify() function in Flask is used to convert Python data structures into a valid JSON response that can be returned to the client (like a web browser or mobile app) in a RESTful API.\n",
        "\n",
        "Main Purposes of jsonify() are:\n",
        "\n",
        "    1) Converts Data to JSON Format\n",
        "\n",
        "Automatically converts Python dictionaries, lists, etc., into JSON, which is the standard format for API responses.\n",
        "\n",
        "    2) Sets the Correct MIME Type\n",
        "\n",
        "Automatically sets the Content-Type header to application/json, so the client knows it's receiving JSON data.\n",
        "\n",
        "    3) Supports Unicode and Proper Formatting\n",
        "\n",
        "Ensures that special characters and data types are handled correctly and encoded properly.\n",
        "\n",
        "    4) Simplifies Response Creation\n",
        "\n",
        "Makes it easier to return structured data with one function call, without manually importing json and setting headers.\n",
        "\n",
        "    5) Can Include HTTP Status Codes\n",
        "\n",
        "Allows you to return both JSON data and a custom status code in the same response."
      ],
      "metadata": {
        "id": "9lBMh5HTTbld"
      }
    },
    {
      "cell_type": "markdown",
      "source": [
        "\n",
        "\n",
        "---\n",
        "\n"
      ],
      "metadata": {
        "id": "gax7wycdZGxP"
      }
    },
    {
      "cell_type": "markdown",
      "source": [
        "16. Explain Flask’s url_for() function?\n",
        "\n",
        "- The url_for() function in Flask is used to dynamically build URLs for a given function name (usually a view or route). It helps generate the correct URL even if the structure of the application changes.\n",
        "\n",
        "Purpose of url_for() Function:\n",
        "\n",
        "1) Dynamic URL Building:\n",
        "Instead of hardcoding URLs, url_for() finds the URL of a view function using its name.\n",
        "\n",
        "2) Avoids Broken Links:\n",
        "If the route changes later, you only need to update the function name, not every URL in your app.\n",
        "\n",
        "3) Adds Query Parameters:\n",
        "Allows adding GET parameters by passing additional arguments to the function.\n",
        "\n",
        "4) Supports URL Generation in Templates and Code:\n",
        "Commonly used in HTML templates (Jinja2) and Python code for redirects or links."
      ],
      "metadata": {
        "id": "LsMjddLQTc-X"
      }
    },
    {
      "cell_type": "markdown",
      "source": [
        "\n",
        "\n",
        "---\n",
        "\n"
      ],
      "metadata": {
        "id": "c6AoZz_dZIc5"
      }
    },
    {
      "cell_type": "markdown",
      "source": [
        "17. How does Flask handle static files (CSS, JavaScript, etc.).\n",
        "\n",
        "- Flask handles static files such as CSS, JavaScript, and images by using a special folder named static in the project directory.\n",
        "\n",
        "Key Points on How Flask Handles Static Files:\n",
        "\n",
        "1) Default static Folder:\n",
        "Flask automatically looks for a folder named static in the root directory of your app for all static resources.\n",
        "\n",
        "2) Accessing Static Files in Templates:\n",
        "In HTML templates (like .html files), static files are linked using Flask’s url_for() function:\n",
        "\n",
        "{{ url_for('static', filename='style.css') }}\n",
        "\n",
        "3) Folder Structure Example:\n",
        "\n",
        "/project_folder\n",
        "├── app.py\n",
        "├── templates/\n",
        "│   └── index.html\n",
        "└── static/\n",
        "    ├── style.css\n",
        "    └── script.js\n",
        "\n",
        "4) No Need to Define Routes:\n",
        "You do not need to define a Flask route for static files; Flask serves them automatically when placed in the static folder.\n",
        "\n",
        "5) Custom Static Folder (Optional):\n",
        "You can customize the folder name using the static_folder parameter when creating the Flask app:\n",
        "\n",
        "app = Flask(__name__, static_folder='my_static')"
      ],
      "metadata": {
        "id": "-QbwQoyjThgT"
      }
    },
    {
      "cell_type": "markdown",
      "source": [
        "\n",
        "\n",
        "---\n",
        "\n"
      ],
      "metadata": {
        "id": "e_sYo_JDZJUu"
      }
    },
    {
      "cell_type": "markdown",
      "source": [
        "18. What is an API specification, and how does it help in building a Flask API?\n",
        "- An API specification is a formal, detailed description of how an API works. It defines:\n",
        "\n",
        "      Endpoints (URLs)\n",
        "\n",
        "      HTTP methods (GET, POST, PUT, DELETE, etc.)\n",
        "\n",
        "       Request and response formats (including headers, parameters, and body content)\n",
        "\n",
        "       Authentication requirements\n",
        "\n",
        "       Error messages and status codes\n",
        "\n",
        "Common formats used for API specifications include OpenAPI (Swagger) and RAML.\n",
        "\n",
        "It Help in Building a Flask API in the following ways:\n",
        "\n",
        "    Clear Communication:\n",
        "\n",
        "Helps developers, frontend teams, and clients understand how the API functions without needing to read the code.\n",
        "\n",
        "    Efficient Development:\n",
        "\n",
        "Acts like a blueprint, helping backend developers structure routes, input, and output consistently.\n",
        "\n",
        "    Automated Documentation:\n",
        "\n",
        "Tools like Swagger UI can generate live API documentation directly from the specification.\n",
        "\n",
        "    Validation of Requests and Responses:\n",
        "\n",
        "Ensures that the input and output match expected formats, reducing bugs.\n",
        "\n",
        "    Faster Testing and Debugging:\n",
        "\n",
        "Testers can easily understand what data to send and what to expect in return.\n",
        "\n",
        "    Better Collaboration:\n",
        "\n",
        "Frontend and backend teams can work simultaneously using the spec as a reference.\n",
        "\n"
      ],
      "metadata": {
        "id": "20EbF1fdTmcB"
      }
    },
    {
      "cell_type": "markdown",
      "source": [
        "\n",
        "\n",
        "---\n",
        "\n"
      ],
      "metadata": {
        "id": "ttK12sNgZK8b"
      }
    },
    {
      "cell_type": "markdown",
      "source": [
        "19. What are HTTP status codes, and why are they important in a Flask API?\n",
        "\n",
        "- HTTP status codes are three-digit numbers returned by a server in response to a client's request. They indicate whether the request was successful, failed, or needs further action.\n",
        "\n",
        "They are grouped into categories:\n",
        "\n",
        "1xx – Informational\n",
        "\n",
        "2xx – Success (e.g., 200 OK, 201 Created)\n",
        "\n",
        "3xx – Redirection\n",
        "\n",
        "4xx – Client errors (e.g., 400 Bad Request, 404 Not Found)\n",
        "\n",
        "5xx – Server errors (e.g., 500 Internal Server Error)\n",
        "\n",
        "They are important in a flask API in the following ways:\n",
        "\n",
        "    1) Communicates Request Outcome:\n",
        "\n",
        "Helps the client understand whether their request was successful or failed, and why.\n",
        "\n",
        "    2) Improves Error Handling\n",
        "\n",
        "Specific status codes (like 400 or 401) make it easier to identify and fix issues.\n",
        "\n",
        "    3) Supports Frontend Logic\n",
        "\n",
        "Frontend applications can act differently based on the response code (e.g., showing error messages).\n",
        "\n",
        "    4) Standardizes API Responses\n",
        "\n",
        "Using proper codes ensures consistency and follows best practices of RESTful APIs.\n",
        "\n",
        "    5) Debugging and Logging\n",
        "\n",
        "Status codes make it easier for developers to trace and resolve bugs.\n",
        "\n"
      ],
      "metadata": {
        "id": "GIWmguEFTuER"
      }
    },
    {
      "cell_type": "markdown",
      "source": [
        "\n",
        "\n",
        "---\n",
        "\n"
      ],
      "metadata": {
        "id": "G5Ks8nuJZL9C"
      }
    },
    {
      "cell_type": "markdown",
      "source": [
        "20.  How do you handle POST requests in Flask?\n",
        "\n",
        "- In Flask, POST requests are used to send data from the client (like a form or API client) to the server. This data is typically used to create or submit new resources (like user details, form inputs, etc.).\n",
        "\n",
        "✅ Steps to Handle POST Requests in Flask:\n",
        "\n",
        "    1) Define a Route with POST Method\n",
        "\n",
        "Use the @app.route() decorator and specify methods=['POST'].\n",
        "\n",
        "    2) Use request Object to Access Data\n",
        "\n",
        "Flask’s request object is used to retrieve the data sent with the POST request.\n",
        "\n",
        "You can access data using:\n",
        "\n",
        "request.form – for form data\n",
        "\n",
        "request.json – for JSON data\n",
        "\n",
        "request.data – for raw data\n",
        "\n",
        "    3) Process the Received Data\n",
        "\n",
        "After accessing the data, you can validate, store, or use it as needed (e.g., saving to a database).\n",
        "\n",
        "    4) Return a Response\n",
        "\n",
        "Use jsonify() or other return statements to send a response (like a success message or error)."
      ],
      "metadata": {
        "id": "7lRcHc7sTyJk"
      }
    },
    {
      "cell_type": "markdown",
      "source": [
        "\n",
        "\n",
        "---\n",
        "\n"
      ],
      "metadata": {
        "id": "H4dfDsoEZMsF"
      }
    },
    {
      "cell_type": "markdown",
      "source": [
        "21. How would you secure a Flask API4?\n",
        "\n",
        "- Securing a Flask API is essential to protect data, prevent unauthorized access, and ensure safe communication between client and server.\n",
        "\n",
        "✅ Ways to Secure a Flask APIare :\n",
        "\n",
        "    1) Authentication and Authorization\n",
        "\n",
        "Use methods like API keys, JWT (JSON Web Tokens), or OAuth2 to ensure only authorized users can access endpoints.\n",
        "\n",
        "    2) HTTPS (SSL/TLS)\n",
        "\n",
        "Host your API over HTTPS to encrypt data during transmission and protect against eavesdropping.\n",
        "\n",
        "    3) Input Validation and Sanitization\n",
        "\n",
        "Always validate incoming data to prevent SQL Injection, XSS, and other injection attacks.\n",
        "\n",
        "    4) Rate Limiting\n",
        "\n",
        "Limit the number of requests from a user/IP using tools like Flask-Limiter to prevent DoS attacks.\n",
        "\n",
        "    5) Use Secure Headers\n",
        "\n",
        "Add security headers like Content-Security-Policy, X-Frame-Options, and Strict-Transport-Security.\n",
        "\n",
        "    6) Cross-Origin Resource Sharing (CORS) Control\n",
        "\n",
        "Use the Flask-CORS extension to control which domains can access your API.\n",
        "\n",
        "    7) Error Handling\n",
        "\n",
        "Avoid exposing detailed error messages to clients. Return only necessary information to prevent information leakage.\n",
        "\n",
        "    8) Token Expiry and Refresh\n",
        "\n",
        "Ensure access tokens (like JWTs) have a limited lifespan and can be refreshed securely.\n",
        "\n",
        "    9) Secure Database Access\n",
        "\n",
        "Use ORM tools like SQLAlchemy to interact with databases safely instead of raw queries.\n",
        "\n",
        "    10) Environment Variables\n",
        "\n",
        "Store sensitive data like API keys and passwords in environment variables, not directly in the code.\n",
        "\n"
      ],
      "metadata": {
        "id": "yKZMgX8MT2WE"
      }
    },
    {
      "cell_type": "markdown",
      "source": [
        "\n",
        "\n",
        "---\n",
        "\n"
      ],
      "metadata": {
        "id": "ysE7GsOSZOSr"
      }
    },
    {
      "cell_type": "markdown",
      "source": [
        "22. What is the significance of the Flask-RESTful extension?\n",
        "\n",
        "- Flask-RESTful is an extension for Flask that helps in building RESTful APIs quickly and efficiently by adding tools and classes to organize the code in a cleaner, more structured way.\n",
        "\n",
        "✅ Significance and Benefits:\n",
        "\n",
        "    1) Simplifies API Development\n",
        "\n",
        "Provides a simple way to create RESTful APIs by using classes instead of functions.\n",
        "\n",
        "    2) Resource-Based Structure\n",
        "\n",
        "Encourages writing API logic using resources, which keeps the code organized and maintainable.\n",
        "\n",
        "    3) Automatic Routing\n",
        "\n",
        "Handles URL routing cleanly with Api.add_resource(), mapping resources to routes easily.\n",
        "\n",
        "    4) Built-in Request Parsing\n",
        "\n",
        "Comes with reqparse to validate and parse incoming request data (like form inputs or JSON).\n",
        "\n",
        "    5) Supports Multiple HTTP Methods\n",
        "\n",
        "Allows clean handling of methods like GET, POST, PUT, DELETE within a single class.\n",
        "\n",
        "    6) Improves Code Readability\n",
        "\n",
        "Encourages the use of object-oriented programming, making code easier to read, update, and debug.\n",
        "\n",
        "    7) Integrates Well with Flask\n",
        "\n",
        "It works seamlessly with other Flask extensions like Flask-SQLAlchemy and Flask-JWT."
      ],
      "metadata": {
        "id": "wKNDQURJT6yk"
      }
    },
    {
      "cell_type": "markdown",
      "source": [
        "\n",
        "\n",
        "---\n",
        "\n"
      ],
      "metadata": {
        "id": "rF1OkVerZPHq"
      }
    },
    {
      "cell_type": "markdown",
      "source": [
        "23. What is the role of Flask’s session object?\n",
        "\n",
        "- Flask’s session object is used to store data across multiple requests from the same user (i.e., it allows session management).\n",
        "\n",
        "It stores information on the server side using a secure cookie by default.\n",
        "\n",
        "Role and Importance:\n",
        "\n",
        "    1) Maintains User State\n",
        "\n",
        "Stores user-specific data (like login status, user ID, preferences) across different pages or requests.\n",
        "\n",
        "    2) Enables Login Systems\n",
        "\n",
        "Helps in implementing user authentication, where you can store login info once and keep the user logged in across routes.\n",
        "\n",
        "    3) Temporary Data Storage\n",
        "\n",
        "Good for holding short-term data like form inputs or user choices during a session.\n",
        "\n",
        "    4) Secure Storage\n",
        "\n",
        "Data in session is cryptographically signed using the app’s secret_key, which prevents tampering.\n",
        "\n",
        "    5) Lightweight Alternative to Database Storage\n",
        "\n",
        "For small pieces of data, it avoids hitting the database every time, improving performance.\n",
        "\n"
      ],
      "metadata": {
        "id": "-2WY9V4yHKzK"
      }
    },
    {
      "cell_type": "markdown",
      "source": [
        "\n",
        "\n",
        "---\n",
        "\n"
      ],
      "metadata": {
        "id": "71IqKkGOGqV1"
      }
    },
    {
      "cell_type": "markdown",
      "source": [
        "#Practical Questions"
      ],
      "metadata": {
        "id": "J2LCBNrqnNBq"
      }
    },
    {
      "cell_type": "code",
      "source": [
        "#Q1) How do you create a basic Flask application?\n",
        "from flask import Flask\n",
        "\n",
        "app = Flask(__name__)\n",
        "\n",
        "@app.route('/')\n",
        "def home():\n",
        "    return \"Hello, this is my first Flask app!\"\n",
        "\n",
        "if __name__ == '__main__':\n",
        "    app.run(debug=True)"
      ],
      "metadata": {
        "id": "5Z9VflGunRj_",
        "colab": {
          "base_uri": "https://localhost:8080/"
        },
        "outputId": "091d01f8-d7ba-4257-e505-3da6fa1e7f3e"
      },
      "execution_count": null,
      "outputs": [
        {
          "output_type": "stream",
          "name": "stdout",
          "text": [
            " * Serving Flask app '__main__'\n",
            " * Debug mode: on\n"
          ]
        },
        {
          "output_type": "stream",
          "name": "stderr",
          "text": [
            "INFO:werkzeug:\u001b[31m\u001b[1mWARNING: This is a development server. Do not use it in a production deployment. Use a production WSGI server instead.\u001b[0m\n",
            " * Running on http://127.0.0.1:5000\n",
            "INFO:werkzeug:\u001b[33mPress CTRL+C to quit\u001b[0m\n",
            "INFO:werkzeug: * Restarting with stat\n"
          ]
        }
      ]
    },
    {
      "cell_type": "code",
      "source": [
        "#Q2) How do you serve static files like images or CSS in Flask?\n",
        "from flask import Flask\n",
        "\n",
        "app = Flask(__name__)\n",
        "\n",
        "@app.route('/')\n",
        "def home():\n",
        "    return '''\n",
        "    <html>\n",
        "        <head>\n",
        "            <link rel=\"stylesheet\" type=\"text/css\" href=\"/static/style.css\">\n",
        "        </head>\n",
        "        <body>\n",
        "            <h1>Hello, Flask with CSS!</h1>\n",
        "            <img src=\"/static/image.png\" alt=\"Sample Image\">\n",
        "        </body>\n",
        "    </html>\n",
        "    '''\n",
        "\n",
        "if __name__ == '__main__':\n",
        "    app.run(debug=True)"
      ],
      "metadata": {
        "id": "wZl89kkOUWw1"
      },
      "execution_count": null,
      "outputs": []
    },
    {
      "cell_type": "code",
      "source": [
        "#Q3) How do you define different routes with different HTTP methods in Flask.\n",
        "from flask import Flask, request\n",
        "\n",
        "app = Flask(__name__)\n",
        "\n",
        "@app.route('/get-data', methods=['GET'])\n",
        "def get_data():\n",
        "    return \"This is a GET request\"\n",
        "\n",
        "@app.route('/submit-data', methods=['POST'])\n",
        "def submit_data():\n",
        "    data = request.form.get('name')\n",
        "    return f\"Received POST data: {data}\"\n",
        "\n",
        "if __name__ == '__main__':\n",
        "    app.run(debug=True)"
      ],
      "metadata": {
        "id": "OfM948PLUZ_8"
      },
      "execution_count": null,
      "outputs": []
    },
    {
      "cell_type": "code",
      "source": [
        "#Q4) How do you render HTML templates in Flask?\n",
        "from flask import Flask, render_template\n",
        "\n",
        "app = Flask(__name__)\n",
        "\n",
        "@app.route('/')\n",
        "def home():\n",
        "    return render_template('index.html')\n",
        "\n",
        "if __name__ == '__main__':\n",
        "    app.run(debug=True)"
      ],
      "metadata": {
        "id": "gOPLYC-NUfbG"
      },
      "execution_count": null,
      "outputs": []
    },
    {
      "cell_type": "code",
      "source": [
        "#Q5) How can you generate URLs for routes in Flask using url_for.\n",
        "from flask import Flask, url_for\n",
        "\n",
        "app = Flask(__name__)\n",
        "\n",
        "@app.route('/')\n",
        "def home():\n",
        "    return f\"Go to the About page: {url_for('about')}\"\n",
        "\n",
        "@app.route('/about')\n",
        "def about():\n",
        "    return \"This is the About page\"\n",
        "\n",
        "if __name__ == '__main__':\n",
        "    app.run(debug=True)"
      ],
      "metadata": {
        "id": "PcGrHE5aUjcP"
      },
      "execution_count": null,
      "outputs": []
    },
    {
      "cell_type": "code",
      "source": [
        "#Q6) How do you handle forms in Flask?\n",
        "from flask import Flask, request, render_template\n",
        "\n",
        "app = Flask(__name__)\n",
        "\n",
        "@app.route('/', methods=['GET', 'POST'])\n",
        "def form():\n",
        "    if request.method == 'POST':\n",
        "        name = request.form['name']\n",
        "        return f\"Hello, {name}!\"\n",
        "    return render_template('form.html')\n",
        "\n",
        "if __name__ == '__main__':\n",
        "    app.run(debug=True)"
      ],
      "metadata": {
        "id": "l05V9Bu_UlxK"
      },
      "execution_count": null,
      "outputs": []
    },
    {
      "cell_type": "code",
      "source": [
        "#Q7) How can you validate form data in Flask?\n",
        "from flask import Flask, request, render_template\n",
        "\n",
        "app = Flask(__name__)\n",
        "\n",
        "@app.route('/', methods=['GET', 'POST'])\n",
        "def form():\n",
        "    error = \"\"\n",
        "    if request.method == 'POST':\n",
        "        name = request.form['name']\n",
        "        if not name:\n",
        "            error = \"Name is required!\"\n",
        "        else:\n",
        "            return f\"Hello, {name}!\"\n",
        "    return render_template('form.html', error=error)\n",
        "\n",
        "if __name__ == '__main__':\n",
        "    app.run(debug=True)"
      ],
      "metadata": {
        "id": "R3X9YjJzUonV"
      },
      "execution_count": null,
      "outputs": []
    },
    {
      "cell_type": "code",
      "source": [
        "#Q8) How do you manage sessions in Flask.\n",
        "from flask import Flask, session, redirect, url_for, request\n",
        "\n",
        "app = Flask(__name__)\n",
        "app.secret_key = 'mysecretkey'  # Needed to use sessions\n",
        "\n",
        "@app.route('/', methods=['GET', 'POST'])\n",
        "def login():\n",
        "    if request.method == 'POST':\n",
        "        session['username'] = request.form['username']\n",
        "        return redirect(url_for('welcome'))\n",
        "    return '''\n",
        "        <form method=\"POST\">\n",
        "            <input type=\"text\" name=\"username\" placeholder=\"Enter username\">\n",
        "            <input type=\"submit\" value=\"Login\">\n",
        "        </form>\n",
        "    '''\n",
        "\n",
        "@app.route('/welcome')\n",
        "def welcome():\n",
        "    user = session.get('username')\n",
        "    return f\"Welcome, {user}!\" if user else \"Not logged in.\"\n",
        "\n",
        "if __name__ == '__main__':\n",
        "    app.run(debug=True)"
      ],
      "metadata": {
        "id": "LWdSOzxUUr6A"
      },
      "execution_count": null,
      "outputs": []
    },
    {
      "cell_type": "code",
      "source": [
        "#Q9) How do you redirect to a different route in Flask?\n",
        "from flask import Flask, redirect, url_for\n",
        "\n",
        "app = Flask(__name__)\n",
        "\n",
        "@app.route('/')\n",
        "def home():\n",
        "    return redirect(url_for('about'))\n",
        "\n",
        "@app.route('/about')\n",
        "def about():\n",
        "    return \"Welcome to the About Page!\"\n",
        "\n",
        "if __name__ == '__main__':\n",
        "    app.run(debug=True)"
      ],
      "metadata": {
        "id": "-lN9u4bHUuaT"
      },
      "execution_count": null,
      "outputs": []
    },
    {
      "cell_type": "code",
      "source": [
        "#Q10) How do you handle errors in Flask (e.g., 404)?\n",
        "from flask import Flask, render_template\n",
        "\n",
        "app = Flask(__name__)\n",
        "\n",
        "@app.errorhandler(404)\n",
        "def page_not_found(e):\n",
        "    return \"Oops! Page not found.\", 404\n",
        "\n",
        "if __name__ == '__main__':\n",
        "    app.run(debug=True)"
      ],
      "metadata": {
        "id": "cDGe7V5AUxvV"
      },
      "execution_count": null,
      "outputs": []
    },
    {
      "cell_type": "code",
      "source": [
        "#Q11) How do you structure a Flask app using Blueprints?\n",
        "from flask import Blueprint\n",
        "\n",
        "my_bp = Blueprint('my_bp', __name__)\n",
        "\n",
        "@my_bp.route('/hello')\n",
        "def hello():\n",
        "    return \"Hello from Blueprint!\"\n",
        "\n",
        "from flask import Flask\n",
        "from my_blueprint import my_bp\n",
        "\n",
        "app = Flask(__name__)\n",
        "app.register_blueprint(my_bp)\n",
        "\n",
        "if __name__ == '__main__':\n",
        "    app.run(debug=True)"
      ],
      "metadata": {
        "id": "Z_OZIQQjUz_V"
      },
      "execution_count": null,
      "outputs": []
    },
    {
      "cell_type": "code",
      "source": [
        "#Q12) How do you define a custom Jinja filter in Flask?\n",
        "from flask import Flask, render_template_string\n",
        "\n",
        "app = Flask(__name__)\n",
        "\n",
        "# Define a custom filter\n",
        "@app.template_filter('capitalize_words')\n",
        "def capitalize_words(s):\n",
        "    return ' '.join(word.capitalize() for word in s.split())\n",
        "\n",
        "@app.route('/')\n",
        "def home():\n",
        "    text = \"hello flask jinja filter\"\n",
        "    return render_template_string(\"{{ text | capitalize_words }}\", text=text)\n",
        "\n",
        "if __name__ == '__main__':\n",
        "    app.run(debug=True)"
      ],
      "metadata": {
        "id": "4mCoEqAWU2JW"
      },
      "execution_count": null,
      "outputs": []
    },
    {
      "cell_type": "code",
      "source": [
        "#Q13) How can you redirect with query parameters in Flask?\n",
        "from flask import Flask, redirect, url_for, request\n",
        "\n",
        "app = Flask(__name__)\n",
        "\n",
        "@app.route('/')\n",
        "def home():\n",
        "    return redirect(url_for('greet', name='Kanupriya'))\n",
        "\n",
        "@app.route('/greet')\n",
        "def greet():\n",
        "    name = request.args.get('name')\n",
        "    return f\"Hello, {name}!\"\n",
        "\n",
        "if __name__ == '__main__':\n",
        "    app.run(debug=True)"
      ],
      "metadata": {
        "id": "48NTYHzqU4ax"
      },
      "execution_count": null,
      "outputs": []
    },
    {
      "cell_type": "code",
      "source": [
        "#Q14) How do you return JSON responses in Flask?\n",
        "from flask import Flask, jsonify\n",
        "\n",
        "app = Flask(__name__)\n",
        "\n",
        "@app.route('/data')\n",
        "def data():\n",
        "    return jsonify({\"name\": \"Kanupriya\", \"role\": \"Data Analyst\"})\n",
        "\n",
        "if __name__ == '__main__':\n",
        "    app.run(debug=True)"
      ],
      "metadata": {
        "id": "rXf-IWToU651"
      },
      "execution_count": null,
      "outputs": []
    },
    {
      "cell_type": "code",
      "source": [
        "#Q15) How do you capture URL parameters in Flask?\n",
        "from flask import Flask\n",
        "\n",
        "app = Flask(__name__)\n",
        "\n",
        "@app.route('/user/<username>')\n",
        "def show_user(username):\n",
        "    return f\"Hello, {username}!\"\n",
        "\n",
        "if __name__ == '__main__':\n",
        "    app.run(debug=True)"
      ],
      "metadata": {
        "id": "IFPiuHywI7Je"
      },
      "execution_count": null,
      "outputs": []
    }
  ]
}